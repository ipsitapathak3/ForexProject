{
 "cells": [
  {
   "cell_type": "code",
   "execution_count": 56,
   "metadata": {},
   "outputs": [],
   "source": [
    "import pandas as pd\n",
    "import statsmodels.api as sm\n",
    "import matplotlib.pyplot as plt\n",
    "import numpy as np"
   ]
  },
  {
   "cell_type": "code",
   "execution_count": 57,
   "metadata": {},
   "outputs": [
    {
     "data": {
      "text/html": [
       "<div>\n",
       "<style scoped>\n",
       "    .dataframe tbody tr th:only-of-type {\n",
       "        vertical-align: middle;\n",
       "    }\n",
       "\n",
       "    .dataframe tbody tr th {\n",
       "        vertical-align: top;\n",
       "    }\n",
       "\n",
       "    .dataframe thead th {\n",
       "        text-align: right;\n",
       "    }\n",
       "</style>\n",
       "<table border=\"1\" class=\"dataframe\">\n",
       "  <thead>\n",
       "    <tr style=\"text-align: right;\">\n",
       "      <th></th>\n",
       "      <th>forex_rate</th>\n",
       "      <th>cpi</th>\n",
       "      <th>ppi</th>\n",
       "      <th>bank_rate</th>\n",
       "      <th>current_account</th>\n",
       "      <th>inflation_rate</th>\n",
       "      <th>gdp</th>\n",
       "      <th>per1</th>\n",
       "      <th>per2</th>\n",
       "      <th>per3</th>\n",
       "    </tr>\n",
       "  </thead>\n",
       "  <tbody>\n",
       "    <tr>\n",
       "      <th>1973-01-04</th>\n",
       "      <td>8.00</td>\n",
       "      <td>5.249812</td>\n",
       "      <td>43.0</td>\n",
       "      <td>6.0</td>\n",
       "      <td>-216000000.0</td>\n",
       "      <td>0.0</td>\n",
       "      <td>2.110000e+11</td>\n",
       "      <td>8.02</td>\n",
       "      <td>8.02</td>\n",
       "      <td>8.02</td>\n",
       "    </tr>\n",
       "    <tr>\n",
       "      <th>1973-01-05</th>\n",
       "      <td>8.01</td>\n",
       "      <td>5.249812</td>\n",
       "      <td>43.0</td>\n",
       "      <td>6.0</td>\n",
       "      <td>-216000000.0</td>\n",
       "      <td>0.0</td>\n",
       "      <td>2.110000e+11</td>\n",
       "      <td>8.00</td>\n",
       "      <td>8.02</td>\n",
       "      <td>8.02</td>\n",
       "    </tr>\n",
       "    <tr>\n",
       "      <th>1973-01-06</th>\n",
       "      <td>8.01</td>\n",
       "      <td>5.249812</td>\n",
       "      <td>43.0</td>\n",
       "      <td>6.0</td>\n",
       "      <td>-216000000.0</td>\n",
       "      <td>0.0</td>\n",
       "      <td>2.110000e+11</td>\n",
       "      <td>8.01</td>\n",
       "      <td>8.00</td>\n",
       "      <td>8.02</td>\n",
       "    </tr>\n",
       "    <tr>\n",
       "      <th>1973-01-07</th>\n",
       "      <td>8.01</td>\n",
       "      <td>5.249812</td>\n",
       "      <td>43.0</td>\n",
       "      <td>6.0</td>\n",
       "      <td>-216000000.0</td>\n",
       "      <td>0.0</td>\n",
       "      <td>2.110000e+11</td>\n",
       "      <td>8.01</td>\n",
       "      <td>8.01</td>\n",
       "      <td>8.00</td>\n",
       "    </tr>\n",
       "    <tr>\n",
       "      <th>1973-01-08</th>\n",
       "      <td>8.00</td>\n",
       "      <td>5.249812</td>\n",
       "      <td>43.0</td>\n",
       "      <td>6.0</td>\n",
       "      <td>-216000000.0</td>\n",
       "      <td>0.0</td>\n",
       "      <td>2.110000e+11</td>\n",
       "      <td>8.01</td>\n",
       "      <td>8.01</td>\n",
       "      <td>8.01</td>\n",
       "    </tr>\n",
       "  </tbody>\n",
       "</table>\n",
       "</div>"
      ],
      "text/plain": [
       "            forex_rate       cpi   ppi  bank_rate  current_account  \\\n",
       "1973-01-04        8.00  5.249812  43.0        6.0     -216000000.0   \n",
       "1973-01-05        8.01  5.249812  43.0        6.0     -216000000.0   \n",
       "1973-01-06        8.01  5.249812  43.0        6.0     -216000000.0   \n",
       "1973-01-07        8.01  5.249812  43.0        6.0     -216000000.0   \n",
       "1973-01-08        8.00  5.249812  43.0        6.0     -216000000.0   \n",
       "\n",
       "            inflation_rate           gdp  per1  per2  per3  \n",
       "1973-01-04             0.0  2.110000e+11  8.02  8.02  8.02  \n",
       "1973-01-05             0.0  2.110000e+11  8.00  8.02  8.02  \n",
       "1973-01-06             0.0  2.110000e+11  8.01  8.00  8.02  \n",
       "1973-01-07             0.0  2.110000e+11  8.01  8.01  8.00  \n",
       "1973-01-08             0.0  2.110000e+11  8.01  8.01  8.01  "
      ]
     },
     "execution_count": 57,
     "metadata": {},
     "output_type": "execute_result"
    }
   ],
   "source": [
    "plt.style.use('fivethirtyeight')\n",
    "cols=[\"forex_rate\",\"cpi\",\"ppi\",\"bank_rate\",\"current_account\",\"inflation_rate\",\"gdp\",\"per1\",\"per2\",\"per3\"]\n",
    "data=pd.read_table('Workbook3.csv',sep=',',names=cols,parse_dates=[0], index_col=0,header=0)\n",
    "data.forex_rate=data.forex_rate.astype(float)\n",
    "data.head()\n"
   ]
  },
  {
   "cell_type": "code",
   "execution_count": 58,
   "metadata": {},
   "outputs": [],
   "source": [
    "cols2=[\"cpi\",\"ppi\",\"bank_rate\",\"current_account\",\"inflation_rate\",\"gdp\",\"per1\",\"per2\",\"per3\"]\n",
    "y=data[\"forex_rate\"]\n",
    "x=data[cols2]"
   ]
  },
  {
   "cell_type": "code",
   "execution_count": 59,
   "metadata": {},
   "outputs": [],
   "source": [
    "from sklearn.model_selection import train_test_split\n",
    "from sklearn.svm import SVR\n",
    "x_train,x_test,y_train,y_test=train_test_split(x,y,train_size=0.75,test_size=0.25,random_state=0)"
   ]
  },
  {
   "cell_type": "code",
   "execution_count": 60,
   "metadata": {},
   "outputs": [
    {
     "name": "stderr",
     "output_type": "stream",
     "text": [
      "/anaconda3/lib/python3.7/site-packages/sklearn/svm/base.py:196: FutureWarning: The default value of gamma will change from 'auto' to 'scale' in version 0.22 to account better for unscaled features. Set gamma explicitly to 'auto' or 'scale' to avoid this warning.\n",
      "  \"avoid this warning.\", FutureWarning)\n"
     ]
    }
   ],
   "source": [
    "svr=SVR(epsilon=2)\n",
    "svr.fit(x_train, y_train)\n",
    "y_pred=svr.predict(x_test)"
   ]
  },
  {
   "cell_type": "code",
   "execution_count": 61,
   "metadata": {},
   "outputs": [
    {
     "data": {
      "text/plain": [
       "0.8518566341400933"
      ]
     },
     "execution_count": 61,
     "metadata": {},
     "output_type": "execute_result"
    }
   ],
   "source": [
    "from sklearn.metrics import r2_score\n",
    "r2_score(y_test, y_pred)"
   ]
  },
  {
   "cell_type": "code",
   "execution_count": 50,
   "metadata": {},
   "outputs": [
    {
     "data": {
      "text/plain": [
       "53.76462351836157"
      ]
     },
     "execution_count": 50,
     "metadata": {},
     "output_type": "execute_result"
    }
   ],
   "source": [
    "from sklearn.metrics import mean_squared_error\n",
    "mean_squared_error(y_test, y_pred)"
   ]
  }
 ],
 "metadata": {
  "kernelspec": {
   "display_name": "Python 3",
   "language": "python",
   "name": "python3"
  },
  "language_info": {
   "codemirror_mode": {
    "name": "ipython",
    "version": 3
   },
   "file_extension": ".py",
   "mimetype": "text/x-python",
   "name": "python",
   "nbconvert_exporter": "python",
   "pygments_lexer": "ipython3",
   "version": "3.7.1"
  }
 },
 "nbformat": 4,
 "nbformat_minor": 2
}
